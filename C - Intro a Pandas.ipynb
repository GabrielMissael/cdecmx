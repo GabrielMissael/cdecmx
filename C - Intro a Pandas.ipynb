{
  "nbformat": 4,
  "nbformat_minor": 0,
  "metadata": {
    "colab": {
      "name": "C - Intro a Pandas",
      "provenance": [],
      "collapsed_sections": [],
      "authorship_tag": "ABX9TyP5UdjOuLWYxrNZZK+yvn9m",
      "include_colab_link": true
    },
    "kernelspec": {
      "name": "python3",
      "display_name": "Python 3"
    },
    "language_info": {
      "name": "python"
    }
  },
  "cells": [
    {
      "cell_type": "markdown",
      "metadata": {
        "id": "view-in-github",
        "colab_type": "text"
      },
      "source": [
        "<a href=\"https://colab.research.google.com/github/GabrielMissael/cdecmx/blob/main/C%20-%20Intro%20a%20Pandas.ipynb\" target=\"_parent\"><img src=\"https://colab.research.google.com/assets/colab-badge.svg\" alt=\"Open In Colab\"/></a>"
      ]
    },
    {
      "cell_type": "markdown",
      "metadata": {
        "id": "V1kR35Lr95Lu"
      },
      "source": [
        "# Introducción a Pandas.\n",
        " \n",
        "En este cuaderno veremos los elementos y funciones básicas de la librería **Pandas**. Los contenidos específicos son:\n",
        " \n",
        "1. Introducción a Pandas.\n",
        "2. Dónde encontrar datos.\n",
        "3. Carga de datos de diferentes formatos.\n",
        "4. Series y DataFrames.\n",
        "5. Revisando los datos.\n",
        "6. Selección de datos por etiqueta.\n",
        "7. Selección de datos por posición.\n",
        "8. Operaciones básicas: Estadísticos.\n",
        "9. Operaciones básicas: Apply.\n",
        "10. Unión de datos: Concatenación.\n",
        " \n",
        "### Planteamiento del problema:\n",
        " \n",
        "Limpiar, analizar y obtener información de un conjunto de datos tabulados es útil al tratar de **obtener conocimiento** de la información que tenemos. Utilizaremos lo aprendido en este módulo para analizar tres datasets distintos. \n",
        " \n",
        "## ¿Qué es Pandas? \n",
        " \n",
        "<center>\n",
        "    <img width=\"30%\" src=\"https://pandas.pydata.org/docs/_static/pandas.svg\">\n",
        "</center>\n",
        " \n",
        "**Pandas** es una librería de Python con la que puedes trabajar con datos tabulados. Es muy útil para limpiar, analizar y procesar datos.\n",
        " \n",
        "De acuerdo con Wikipedia: _\"(...) es una biblioteca de software escrita como extensión de **NumPy** para manipulación y análisis de datos para el lenguaje de programación Python. En particular, ofrece estructuras de datos y operaciones para manipular tablas numéricas y series temporales.\"_\n",
        " \n",
        "### Objetos en Pandas.\n",
        " \n",
        "En Pandas, los objetos con los que trabajaremos son dos: **DataFrames** y Series. Un DataFrame lo puedes entender como un **tabla** (como las de Excel), y una **Series** como una **tabla con una sola columna**. Más adelante veremos mas a detalle a estos dos objetos que son los objetos base de Pandas."
      ]
    },
    {
      "cell_type": "code",
      "metadata": {
        "id": "stnODbMd-EI3"
      },
      "source": [
        "# Importamos el módulo que aprenderemos en este módulo :)\n",
        "import pandas as pd\n",
        "\n",
        "# También usaremos un poco Numpy\n",
        "import numpy as np"
      ],
      "execution_count": 1,
      "outputs": []
    },
    {
      "cell_type": "markdown",
      "metadata": {
        "id": "tjXN3eJuM44K"
      },
      "source": [
        "## ¿Dónde encontrar datos?\n",
        " \n",
        "En internet existen repositorios de **datos abiertos** de los que puedes descargar datasets, jugar con ellos, analizarlos y aprender. Algunos ejemplos:\n",
        " \n",
        "1. [Kaggle](https://www.kaggle.com/datasets): Sitio web para prácticar y aprender sobre **ciencia de datos y machine learning**. Además de los datasets que hay en el sitio, ¡puedes correr notebooks como este!. Los dataset están por lo general explicados y listos para usarse.\n",
        "2. [UC Irvine Machine Learning Repository](http://archive.ics.uci.edu/ml/index.php): En este repositorio hay más de **500 datasets** de diversos temas. Usualmente son útiles para practicar y aprender sobre machine learning.\n",
        "3. [Datos Abiertos de México](https://datos.gob.mx/): En este sitio web se encuentra una recopilación de datos abiertos de diversas instituciones, así como del **gobierno federal y gobiernos estatales**. \n",
        "4. [INEGI](https://www.inegi.org.mx/datos/): Datos obtenidos de los diversos **censos** que realiza el Instituto Nacional de Estadística y Geografía.\n",
        " \n",
        "Incluso puedes encontrar **datos abiertos de ciencia**: \n",
        "1. [CERN Opendata](https://opendata.cern.ch/): Más de dos petabytes de datos de **física de partículas**.\n",
        "2. [NASA Open Data Portal](https://data.nasa.gov/): Datos aeroespaciales, de ciencias de la tierra... **¡Muchos datos!**✨\n",
        " \n",
        "Esta no es una lista exhaustiva, hay muchos más recursos disponibles con los que puedes trabajar.\n"
      ]
    },
    {
      "cell_type": "markdown",
      "metadata": {
        "id": "mA84olu4M5fG"
      },
      "source": [
        "## Carga de datos de diferentes formatos.\n",
        " \n",
        "Con Pandas puedes **cargar datos** de archivos externos, los cuales pueden estar en internet o en tu computadora (quizá bajaste alguna de las páginas de arriba 👀). Por lo general se utilizan datos tabulados (tablas) en Pandas, y los tipos de archivos desde los que puedes cargar datos son varios. Los más comunes son archivos con valores separados por comas_ o CSV, por sus siglas en inglés, con extensión **.csv** y archivos de Excel con extensión **.xlsx**.\n",
        " \n",
        " \n",
        "```python\n",
        "# Para importar un archivo csv\n",
        "datos = read_csv('nombre_del_archivo.csv')\n",
        " \n",
        "# Para importar un archivo de excel\n",
        "datos = read_excel('nombre_del_archivo.xlsx') \n",
        "```\n",
        " \n",
        "<center>\n",
        "    <img width=\"90%\" src=\"https://pandas.pydata.org/docs/_images/02_io_readwrite.svg\">\n",
        "</center>\n",
        " \n",
        "Hay más tipos de archivos válidos, como **.html** o **.json** y se importan al igual que los ejemplos anteriores. De la misma manera en la que cargamos datos, podemos guardar un DataFrame o una Series en un archivo con extensión válida: \n",
        " \n",
        "```python\n",
        "# Guardamos los datos en un archivo CSV\n",
        "datos.to_csv('datos_guardados.csv')\n",
        "```\n",
        "Ahora, cargaremos tres datasets que usaremos más adelante. Este primer dataset viene de: _Kaggle_, [Titanic - Machine Learning from Disaster](https://www.kaggle.com/c/titanic/data). El dataset describe información de personas que viajaban en el Titanic."
      ]
    },
    {
      "cell_type": "code",
      "metadata": {
        "colab": {
          "base_uri": "https://localhost:8080/",
          "height": 240
        },
        "id": "HbgjsCkOGEfE",
        "outputId": "276b0d3f-1768-4d5f-e880-6e1ac69da153"
      },
      "source": [
        "# Importamos un archivo de Excel que está en un repositorio en GitHub\n",
        "df_titanic = pd.read_excel('https://raw.githubusercontent.com/GabrielMissael/'+\n",
        "                           'cdecmx/gh-pages/assets/datasets/Titanic.xlsx')\n",
        " \n",
        "# Podemos ver el inicio de un DataFrame con .head()\n",
        "df_titanic.head()\n"
      ],
      "execution_count": 2,
      "outputs": [
        {
          "output_type": "execute_result",
          "data": {
            "text/html": [
              "<div>\n",
              "<style scoped>\n",
              "    .dataframe tbody tr th:only-of-type {\n",
              "        vertical-align: middle;\n",
              "    }\n",
              "\n",
              "    .dataframe tbody tr th {\n",
              "        vertical-align: top;\n",
              "    }\n",
              "\n",
              "    .dataframe thead th {\n",
              "        text-align: right;\n",
              "    }\n",
              "</style>\n",
              "<table border=\"1\" class=\"dataframe\">\n",
              "  <thead>\n",
              "    <tr style=\"text-align: right;\">\n",
              "      <th></th>\n",
              "      <th>PassengerId</th>\n",
              "      <th>Survived</th>\n",
              "      <th>Pclass</th>\n",
              "      <th>Name</th>\n",
              "      <th>Sex</th>\n",
              "      <th>Age</th>\n",
              "      <th>SibSp</th>\n",
              "      <th>Parch</th>\n",
              "      <th>Ticket</th>\n",
              "      <th>Fare</th>\n",
              "      <th>Cabin</th>\n",
              "      <th>Embarked</th>\n",
              "    </tr>\n",
              "  </thead>\n",
              "  <tbody>\n",
              "    <tr>\n",
              "      <th>0</th>\n",
              "      <td>1</td>\n",
              "      <td>0</td>\n",
              "      <td>3</td>\n",
              "      <td>Braund, Mr. Owen Harris</td>\n",
              "      <td>male</td>\n",
              "      <td>22.0</td>\n",
              "      <td>1</td>\n",
              "      <td>0</td>\n",
              "      <td>A/5 21171</td>\n",
              "      <td>7.2500</td>\n",
              "      <td>NaN</td>\n",
              "      <td>S</td>\n",
              "    </tr>\n",
              "    <tr>\n",
              "      <th>1</th>\n",
              "      <td>2</td>\n",
              "      <td>1</td>\n",
              "      <td>1</td>\n",
              "      <td>Cumings, Mrs. John Bradley (Florence Briggs Th...</td>\n",
              "      <td>female</td>\n",
              "      <td>38.0</td>\n",
              "      <td>1</td>\n",
              "      <td>0</td>\n",
              "      <td>PC 17599</td>\n",
              "      <td>71.2833</td>\n",
              "      <td>C85</td>\n",
              "      <td>C</td>\n",
              "    </tr>\n",
              "    <tr>\n",
              "      <th>2</th>\n",
              "      <td>3</td>\n",
              "      <td>1</td>\n",
              "      <td>3</td>\n",
              "      <td>Heikkinen, Miss. Laina</td>\n",
              "      <td>female</td>\n",
              "      <td>26.0</td>\n",
              "      <td>0</td>\n",
              "      <td>0</td>\n",
              "      <td>STON/O2. 3101282</td>\n",
              "      <td>7.9250</td>\n",
              "      <td>NaN</td>\n",
              "      <td>S</td>\n",
              "    </tr>\n",
              "    <tr>\n",
              "      <th>3</th>\n",
              "      <td>4</td>\n",
              "      <td>1</td>\n",
              "      <td>1</td>\n",
              "      <td>Futrelle, Mrs. Jacques Heath (Lily May Peel)</td>\n",
              "      <td>female</td>\n",
              "      <td>35.0</td>\n",
              "      <td>1</td>\n",
              "      <td>0</td>\n",
              "      <td>113803</td>\n",
              "      <td>53.1000</td>\n",
              "      <td>C123</td>\n",
              "      <td>S</td>\n",
              "    </tr>\n",
              "    <tr>\n",
              "      <th>4</th>\n",
              "      <td>5</td>\n",
              "      <td>0</td>\n",
              "      <td>3</td>\n",
              "      <td>Allen, Mr. William Henry</td>\n",
              "      <td>male</td>\n",
              "      <td>35.0</td>\n",
              "      <td>0</td>\n",
              "      <td>0</td>\n",
              "      <td>373450</td>\n",
              "      <td>8.0500</td>\n",
              "      <td>NaN</td>\n",
              "      <td>S</td>\n",
              "    </tr>\n",
              "  </tbody>\n",
              "</table>\n",
              "</div>"
            ],
            "text/plain": [
              "   PassengerId  Survived  Pclass  ...     Fare Cabin  Embarked\n",
              "0            1         0       3  ...   7.2500   NaN         S\n",
              "1            2         1       1  ...  71.2833   C85         C\n",
              "2            3         1       3  ...   7.9250   NaN         S\n",
              "3            4         1       1  ...  53.1000  C123         S\n",
              "4            5         0       3  ...   8.0500   NaN         S\n",
              "\n",
              "[5 rows x 12 columns]"
            ]
          },
          "metadata": {},
          "execution_count": 2
        }
      ]
    },
    {
      "cell_type": "markdown",
      "metadata": {
        "id": "pVScM7QNZjES"
      },
      "source": [
        "El siguiente dataset viene de muestra dentro de Google Colab, y describe información poblacional e inmobiliaria de California."
      ]
    },
    {
      "cell_type": "code",
      "metadata": {
        "id": "aT4-WQF1M5ly",
        "colab": {
          "base_uri": "https://localhost:8080/",
          "height": 205
        },
        "outputId": "7e9a95de-5220-45d5-80d3-f339f82048aa"
      },
      "source": [
        "# Importamos un archivo CSV que viene de ejemplo en Google Colab\n",
        "df_casas = pd.read_csv('sample_data/california_housing_test.csv')\n",
        "df_casas.head()"
      ],
      "execution_count": 3,
      "outputs": [
        {
          "output_type": "execute_result",
          "data": {
            "text/html": [
              "<div>\n",
              "<style scoped>\n",
              "    .dataframe tbody tr th:only-of-type {\n",
              "        vertical-align: middle;\n",
              "    }\n",
              "\n",
              "    .dataframe tbody tr th {\n",
              "        vertical-align: top;\n",
              "    }\n",
              "\n",
              "    .dataframe thead th {\n",
              "        text-align: right;\n",
              "    }\n",
              "</style>\n",
              "<table border=\"1\" class=\"dataframe\">\n",
              "  <thead>\n",
              "    <tr style=\"text-align: right;\">\n",
              "      <th></th>\n",
              "      <th>longitude</th>\n",
              "      <th>latitude</th>\n",
              "      <th>housing_median_age</th>\n",
              "      <th>total_rooms</th>\n",
              "      <th>total_bedrooms</th>\n",
              "      <th>population</th>\n",
              "      <th>households</th>\n",
              "      <th>median_income</th>\n",
              "      <th>median_house_value</th>\n",
              "    </tr>\n",
              "  </thead>\n",
              "  <tbody>\n",
              "    <tr>\n",
              "      <th>0</th>\n",
              "      <td>-122.05</td>\n",
              "      <td>37.37</td>\n",
              "      <td>27.0</td>\n",
              "      <td>3885.0</td>\n",
              "      <td>661.0</td>\n",
              "      <td>1537.0</td>\n",
              "      <td>606.0</td>\n",
              "      <td>6.6085</td>\n",
              "      <td>344700.0</td>\n",
              "    </tr>\n",
              "    <tr>\n",
              "      <th>1</th>\n",
              "      <td>-118.30</td>\n",
              "      <td>34.26</td>\n",
              "      <td>43.0</td>\n",
              "      <td>1510.0</td>\n",
              "      <td>310.0</td>\n",
              "      <td>809.0</td>\n",
              "      <td>277.0</td>\n",
              "      <td>3.5990</td>\n",
              "      <td>176500.0</td>\n",
              "    </tr>\n",
              "    <tr>\n",
              "      <th>2</th>\n",
              "      <td>-117.81</td>\n",
              "      <td>33.78</td>\n",
              "      <td>27.0</td>\n",
              "      <td>3589.0</td>\n",
              "      <td>507.0</td>\n",
              "      <td>1484.0</td>\n",
              "      <td>495.0</td>\n",
              "      <td>5.7934</td>\n",
              "      <td>270500.0</td>\n",
              "    </tr>\n",
              "    <tr>\n",
              "      <th>3</th>\n",
              "      <td>-118.36</td>\n",
              "      <td>33.82</td>\n",
              "      <td>28.0</td>\n",
              "      <td>67.0</td>\n",
              "      <td>15.0</td>\n",
              "      <td>49.0</td>\n",
              "      <td>11.0</td>\n",
              "      <td>6.1359</td>\n",
              "      <td>330000.0</td>\n",
              "    </tr>\n",
              "    <tr>\n",
              "      <th>4</th>\n",
              "      <td>-119.67</td>\n",
              "      <td>36.33</td>\n",
              "      <td>19.0</td>\n",
              "      <td>1241.0</td>\n",
              "      <td>244.0</td>\n",
              "      <td>850.0</td>\n",
              "      <td>237.0</td>\n",
              "      <td>2.9375</td>\n",
              "      <td>81700.0</td>\n",
              "    </tr>\n",
              "  </tbody>\n",
              "</table>\n",
              "</div>"
            ],
            "text/plain": [
              "   longitude  latitude  ...  median_income  median_house_value\n",
              "0    -122.05     37.37  ...         6.6085            344700.0\n",
              "1    -118.30     34.26  ...         3.5990            176500.0\n",
              "2    -117.81     33.78  ...         5.7934            270500.0\n",
              "3    -118.36     33.82  ...         6.1359            330000.0\n",
              "4    -119.67     36.33  ...         2.9375             81700.0\n",
              "\n",
              "[5 rows x 9 columns]"
            ]
          },
          "metadata": {},
          "execution_count": 3
        }
      ]
    },
    {
      "cell_type": "markdown",
      "metadata": {
        "id": "_J03hiE8_rWH"
      },
      "source": [
        "Finalmente, datos de: [Wikipedia - World population](https://en.wikipedia.org/wiki/World_population), sobre los 10 países más densamente poblados en el mundo."
      ]
    },
    {
      "cell_type": "code",
      "metadata": {
        "colab": {
          "base_uri": "https://localhost:8080/",
          "height": 393
        },
        "id": "a_dkw4kJ-jzm",
        "outputId": "b6a8cabe-28e4-4c18-deeb-6096f02de8d5"
      },
      "source": [
        "# Podemos importar tablas que estén en páginas Web como wikipedia\n",
        "tabla_poblacion = pd.read_html('https://en.wikipedia.org/wiki/World_population', \n",
        "                            match = '10 most densely populated countries')\n",
        "\n",
        "df_poblacion = tabla_poblacion[0].set_index('Country')\n",
        "df_poblacion"
      ],
      "execution_count": 4,
      "outputs": [
        {
          "output_type": "execute_result",
          "data": {
            "text/html": [
              "<div>\n",
              "<style scoped>\n",
              "    .dataframe tbody tr th:only-of-type {\n",
              "        vertical-align: middle;\n",
              "    }\n",
              "\n",
              "    .dataframe tbody tr th {\n",
              "        vertical-align: top;\n",
              "    }\n",
              "\n",
              "    .dataframe thead th {\n",
              "        text-align: right;\n",
              "    }\n",
              "</style>\n",
              "<table border=\"1\" class=\"dataframe\">\n",
              "  <thead>\n",
              "    <tr style=\"text-align: right;\">\n",
              "      <th></th>\n",
              "      <th>Rank</th>\n",
              "      <th>Population</th>\n",
              "      <th>Area(km2)</th>\n",
              "      <th>Density(pop/km2)</th>\n",
              "    </tr>\n",
              "    <tr>\n",
              "      <th>Country</th>\n",
              "      <th></th>\n",
              "      <th></th>\n",
              "      <th></th>\n",
              "      <th></th>\n",
              "    </tr>\n",
              "  </thead>\n",
              "  <tbody>\n",
              "    <tr>\n",
              "      <th>Singapore</th>\n",
              "      <td>1</td>\n",
              "      <td>5704000</td>\n",
              "      <td>710</td>\n",
              "      <td>8033</td>\n",
              "    </tr>\n",
              "    <tr>\n",
              "      <th>Bangladesh</th>\n",
              "      <td>2</td>\n",
              "      <td>171260000</td>\n",
              "      <td>143998</td>\n",
              "      <td>1189</td>\n",
              "    </tr>\n",
              "    <tr>\n",
              "      <th>Lebanon</th>\n",
              "      <td>3</td>\n",
              "      <td>6856000</td>\n",
              "      <td>10452</td>\n",
              "      <td>656</td>\n",
              "    </tr>\n",
              "    <tr>\n",
              "      <th>Taiwan</th>\n",
              "      <td>4</td>\n",
              "      <td>23604000</td>\n",
              "      <td>36193</td>\n",
              "      <td>652</td>\n",
              "    </tr>\n",
              "    <tr>\n",
              "      <th>South Korea</th>\n",
              "      <td>5</td>\n",
              "      <td>51781000</td>\n",
              "      <td>99538</td>\n",
              "      <td>520</td>\n",
              "    </tr>\n",
              "    <tr>\n",
              "      <th>Rwanda</th>\n",
              "      <td>6</td>\n",
              "      <td>12374000</td>\n",
              "      <td>26338</td>\n",
              "      <td>470</td>\n",
              "    </tr>\n",
              "    <tr>\n",
              "      <th>Haiti</th>\n",
              "      <td>7</td>\n",
              "      <td>11578000</td>\n",
              "      <td>27065</td>\n",
              "      <td>428</td>\n",
              "    </tr>\n",
              "    <tr>\n",
              "      <th>Netherlands</th>\n",
              "      <td>8</td>\n",
              "      <td>17630000</td>\n",
              "      <td>41526</td>\n",
              "      <td>425</td>\n",
              "    </tr>\n",
              "    <tr>\n",
              "      <th>Israel</th>\n",
              "      <td>9</td>\n",
              "      <td>9390000</td>\n",
              "      <td>22072</td>\n",
              "      <td>426</td>\n",
              "    </tr>\n",
              "    <tr>\n",
              "      <th>India</th>\n",
              "      <td>10</td>\n",
              "      <td>1381230000</td>\n",
              "      <td>3287240</td>\n",
              "      <td>420</td>\n",
              "    </tr>\n",
              "  </tbody>\n",
              "</table>\n",
              "</div>"
            ],
            "text/plain": [
              "             Rank  Population  Area(km2)  Density(pop/km2)\n",
              "Country                                                   \n",
              "Singapore       1     5704000        710              8033\n",
              "Bangladesh      2   171260000     143998              1189\n",
              "Lebanon         3     6856000      10452               656\n",
              "Taiwan          4    23604000      36193               652\n",
              "South Korea     5    51781000      99538               520\n",
              "Rwanda          6    12374000      26338               470\n",
              "Haiti           7    11578000      27065               428\n",
              "Netherlands     8    17630000      41526               425\n",
              "Israel          9     9390000      22072               426\n",
              "India          10  1381230000    3287240               420"
            ]
          },
          "metadata": {},
          "execution_count": 4
        }
      ]
    },
    {
      "cell_type": "markdown",
      "metadata": {
        "id": "orngfmWGaZHu"
      },
      "source": [
        "## Series y DataFrames.\n",
        " \n",
        "Como ya mencionamos, una Series se puede entender como una **tabla con una sola columna**, aunque también puedes verla como una lista donde cada elemento tiene una etiqueta, un **índice** el cual por default es un número entero de la posición del elemento.\n",
        " \n",
        "<center>\n",
        "    <img width=\"12%\" src=\"https://pandas.pydata.org/docs/_images/01_table_series.svg\">\n",
        "</center>\n",
        "Para crear una serie partiendo de una lista:\n"
      ]
    },
    {
      "cell_type": "code",
      "metadata": {
        "id": "-JBIpGSVM5zQ",
        "colab": {
          "base_uri": "https://localhost:8080/"
        },
        "outputId": "8c854cc4-7b90-4146-969d-fe3633ade812"
      },
      "source": [
        "serie = pd.Series(['Hola', 3.1416, 'A'])\n",
        "\n",
        "# Imprimimos la serie que creamos\n",
        "print(serie)\n",
        "\n",
        "# Información de la serie\n",
        "print(\"\\nTipo de dato: \", type(serie))\n",
        "print(\"Tamaño: \", serie.size)"
      ],
      "execution_count": 5,
      "outputs": [
        {
          "output_type": "stream",
          "text": [
            "0      Hola\n",
            "1    3.1416\n",
            "2         A\n",
            "dtype: object\n",
            "\n",
            "Tipo de dato:  <class 'pandas.core.series.Series'>\n",
            "Tamaño:  3\n"
          ],
          "name": "stdout"
        }
      ]
    },
    {
      "cell_type": "markdown",
      "metadata": {
        "id": "fhhAhDF5bMM3"
      },
      "source": [
        "Observamos cómo cada elemento de la lista ahora tiene un índice. Podemos especificar el índice explícitamente: "
      ]
    },
    {
      "cell_type": "code",
      "metadata": {
        "colab": {
          "base_uri": "https://localhost:8080/"
        },
        "id": "K10hkWJrbWmq",
        "outputId": "53acb10e-6e00-437e-b950-0328176e95d9"
      },
      "source": [
        "serie = pd.Series(data = ['Aaa', 'Bbb', 'Ccc'], \n",
        "                  index = ['Elemento 1', 'Elemento 2', 'Elemento 2'])\n",
        " \n",
        "print(serie)\n",
        " \n",
        "# Podemos obtener un elemento con su índice\n",
        "print(serie['Elemento 1'])\n"
      ],
      "execution_count": 6,
      "outputs": [
        {
          "output_type": "stream",
          "text": [
            "Elemento 1    Aaa\n",
            "Elemento 2    Bbb\n",
            "Elemento 2    Ccc\n",
            "dtype: object\n",
            "Aaa\n"
          ],
          "name": "stdout"
        }
      ]
    },
    {
      "cell_type": "markdown",
      "metadata": {
        "id": "dwkmLggUM5sO"
      },
      "source": [
        "Los **DataFrames** son más complejos que las Series, ya que ahora tenemos una **tabla con varias columnas**. En este caso, tendremos **índices** para cada fila y también etiquetas para las **columnas**. Los valores default son también enteros que indican la posición.\n",
        " \n",
        "<center>\n",
        "    <img width=\"30%\" src=\"https://pandas.pydata.org/docs/_images/01_table_dataframe.svg\">\n",
        "</center>\n"
      ]
    },
    {
      "cell_type": "code",
      "metadata": {
        "colab": {
          "base_uri": "https://localhost:8080/",
          "height": 178
        },
        "id": "UQgL3uU8fExw",
        "outputId": "ca301d9d-41ed-41bf-f9df-239420211ef0"
      },
      "source": [
        "# Creemos DataFrame con una matriz aleatoria.\n",
        "df = pd.DataFrame(data = np.random.rand(3, 4))\n",
        " \n",
        "print(\"Tipo: \", type(df)) # Tipo de objeto\n",
        "print(\"Tamaño: \", df.size)  #El tamaño es igual al número de celdas\n",
        "df # Visualizamos el DataFrame completo"
      ],
      "execution_count": 7,
      "outputs": [
        {
          "output_type": "stream",
          "text": [
            "Tipo:  <class 'pandas.core.frame.DataFrame'>\n",
            "Tamaño:  12\n"
          ],
          "name": "stdout"
        },
        {
          "output_type": "execute_result",
          "data": {
            "text/html": [
              "<div>\n",
              "<style scoped>\n",
              "    .dataframe tbody tr th:only-of-type {\n",
              "        vertical-align: middle;\n",
              "    }\n",
              "\n",
              "    .dataframe tbody tr th {\n",
              "        vertical-align: top;\n",
              "    }\n",
              "\n",
              "    .dataframe thead th {\n",
              "        text-align: right;\n",
              "    }\n",
              "</style>\n",
              "<table border=\"1\" class=\"dataframe\">\n",
              "  <thead>\n",
              "    <tr style=\"text-align: right;\">\n",
              "      <th></th>\n",
              "      <th>0</th>\n",
              "      <th>1</th>\n",
              "      <th>2</th>\n",
              "      <th>3</th>\n",
              "    </tr>\n",
              "  </thead>\n",
              "  <tbody>\n",
              "    <tr>\n",
              "      <th>0</th>\n",
              "      <td>0.793395</td>\n",
              "      <td>0.711644</td>\n",
              "      <td>0.523187</td>\n",
              "      <td>0.162020</td>\n",
              "    </tr>\n",
              "    <tr>\n",
              "      <th>1</th>\n",
              "      <td>0.205699</td>\n",
              "      <td>0.956386</td>\n",
              "      <td>0.020772</td>\n",
              "      <td>0.598737</td>\n",
              "    </tr>\n",
              "    <tr>\n",
              "      <th>2</th>\n",
              "      <td>0.776242</td>\n",
              "      <td>0.312414</td>\n",
              "      <td>0.449447</td>\n",
              "      <td>0.114186</td>\n",
              "    </tr>\n",
              "  </tbody>\n",
              "</table>\n",
              "</div>"
            ],
            "text/plain": [
              "          0         1         2         3\n",
              "0  0.793395  0.711644  0.523187  0.162020\n",
              "1  0.205699  0.956386  0.020772  0.598737\n",
              "2  0.776242  0.312414  0.449447  0.114186"
            ]
          },
          "metadata": {},
          "execution_count": 7
        }
      ]
    },
    {
      "cell_type": "code",
      "metadata": {
        "colab": {
          "base_uri": "https://localhost:8080/",
          "height": 143
        },
        "id": "fnM6Ual-lcWS",
        "outputId": "3c6d66a7-7577-4f47-cc3a-b8b443ddb73e"
      },
      "source": [
        "# Podemos crear DataFrames a partir de diccionarios CUADRADOS\n",
        "df_dict = pd.DataFrame({\n",
        "    'Nombre':['Juan', 'María', 'Guadalupe'],\n",
        "    'Edad':[18, 22, 34],\n",
        "    'Altura':[1.73, 1.80, 1.50],}, \n",
        "    index = ['Persona 1', 'Persona 2', 'Persona 3']) # Especificamos índice\n",
        "df_dict"
      ],
      "execution_count": 8,
      "outputs": [
        {
          "output_type": "execute_result",
          "data": {
            "text/html": [
              "<div>\n",
              "<style scoped>\n",
              "    .dataframe tbody tr th:only-of-type {\n",
              "        vertical-align: middle;\n",
              "    }\n",
              "\n",
              "    .dataframe tbody tr th {\n",
              "        vertical-align: top;\n",
              "    }\n",
              "\n",
              "    .dataframe thead th {\n",
              "        text-align: right;\n",
              "    }\n",
              "</style>\n",
              "<table border=\"1\" class=\"dataframe\">\n",
              "  <thead>\n",
              "    <tr style=\"text-align: right;\">\n",
              "      <th></th>\n",
              "      <th>Nombre</th>\n",
              "      <th>Edad</th>\n",
              "      <th>Altura</th>\n",
              "    </tr>\n",
              "  </thead>\n",
              "  <tbody>\n",
              "    <tr>\n",
              "      <th>Persona 1</th>\n",
              "      <td>Juan</td>\n",
              "      <td>18</td>\n",
              "      <td>1.73</td>\n",
              "    </tr>\n",
              "    <tr>\n",
              "      <th>Persona 2</th>\n",
              "      <td>María</td>\n",
              "      <td>22</td>\n",
              "      <td>1.80</td>\n",
              "    </tr>\n",
              "    <tr>\n",
              "      <th>Persona 3</th>\n",
              "      <td>Guadalupe</td>\n",
              "      <td>34</td>\n",
              "      <td>1.50</td>\n",
              "    </tr>\n",
              "  </tbody>\n",
              "</table>\n",
              "</div>"
            ],
            "text/plain": [
              "              Nombre  Edad  Altura\n",
              "Persona 1       Juan    18    1.73\n",
              "Persona 2      María    22    1.80\n",
              "Persona 3  Guadalupe    34    1.50"
            ]
          },
          "metadata": {},
          "execution_count": 8
        }
      ]
    },
    {
      "cell_type": "markdown",
      "metadata": {
        "id": "W73BhXXoysU6"
      },
      "source": [
        "Ejercicio: \n",
        "- Crea un DataFrame con una matriz de ceros con dimensión (5, 4)\n",
        "- Asigna números enteros pares como índice.\n",
        "- Asigna letras como columnas."
      ]
    },
    {
      "cell_type": "code",
      "metadata": {
        "id": "yUwaSH-dy84q"
      },
      "source": [
        "# To-Do\n"
      ],
      "execution_count": 9,
      "outputs": []
    },
    {
      "cell_type": "markdown",
      "metadata": {
        "id": "Ovp65auHM55T"
      },
      "source": [
        "## Revisando los datos.\n",
        " \n",
        "Para visualizar los datos de un DataFrame, tenemos dos opciones:\n",
        " \n",
        "```python\n",
        "# Mostramos las primeras 7 filas.\n",
        "df.head(n = 7)\n",
        " \n",
        "# Mostramos las últimas 4 filas.\n",
        "df.tail(n = 4)\n",
        "```\n",
        "Si queremos ver un DataFrame completo, lo ponemos solo en una celda.\n",
        " \n",
        "```python\n",
        "# Para ver todo el DataFrame\n",
        "df\n",
        "```\n",
        "Si el DataFrame es muy grande, no se podrá visualizar completo. Veamos los primeros tres y los últimos cuatro elementos del DataFrame de los datos que cargamos del Titanic.\n"
      ]
    },
    {
      "cell_type": "code",
      "metadata": {
        "id": "xn3YfBSlM5_s",
        "colab": {
          "base_uri": "https://localhost:8080/",
          "height": 178
        },
        "outputId": "c0adc5b9-60bc-4462-a115-a47565c51b26"
      },
      "source": [
        "df_titanic.head(n = 3)"
      ],
      "execution_count": 10,
      "outputs": [
        {
          "output_type": "execute_result",
          "data": {
            "text/html": [
              "<div>\n",
              "<style scoped>\n",
              "    .dataframe tbody tr th:only-of-type {\n",
              "        vertical-align: middle;\n",
              "    }\n",
              "\n",
              "    .dataframe tbody tr th {\n",
              "        vertical-align: top;\n",
              "    }\n",
              "\n",
              "    .dataframe thead th {\n",
              "        text-align: right;\n",
              "    }\n",
              "</style>\n",
              "<table border=\"1\" class=\"dataframe\">\n",
              "  <thead>\n",
              "    <tr style=\"text-align: right;\">\n",
              "      <th></th>\n",
              "      <th>PassengerId</th>\n",
              "      <th>Survived</th>\n",
              "      <th>Pclass</th>\n",
              "      <th>Name</th>\n",
              "      <th>Sex</th>\n",
              "      <th>Age</th>\n",
              "      <th>SibSp</th>\n",
              "      <th>Parch</th>\n",
              "      <th>Ticket</th>\n",
              "      <th>Fare</th>\n",
              "      <th>Cabin</th>\n",
              "      <th>Embarked</th>\n",
              "    </tr>\n",
              "  </thead>\n",
              "  <tbody>\n",
              "    <tr>\n",
              "      <th>0</th>\n",
              "      <td>1</td>\n",
              "      <td>0</td>\n",
              "      <td>3</td>\n",
              "      <td>Braund, Mr. Owen Harris</td>\n",
              "      <td>male</td>\n",
              "      <td>22.0</td>\n",
              "      <td>1</td>\n",
              "      <td>0</td>\n",
              "      <td>A/5 21171</td>\n",
              "      <td>7.2500</td>\n",
              "      <td>NaN</td>\n",
              "      <td>S</td>\n",
              "    </tr>\n",
              "    <tr>\n",
              "      <th>1</th>\n",
              "      <td>2</td>\n",
              "      <td>1</td>\n",
              "      <td>1</td>\n",
              "      <td>Cumings, Mrs. John Bradley (Florence Briggs Th...</td>\n",
              "      <td>female</td>\n",
              "      <td>38.0</td>\n",
              "      <td>1</td>\n",
              "      <td>0</td>\n",
              "      <td>PC 17599</td>\n",
              "      <td>71.2833</td>\n",
              "      <td>C85</td>\n",
              "      <td>C</td>\n",
              "    </tr>\n",
              "    <tr>\n",
              "      <th>2</th>\n",
              "      <td>3</td>\n",
              "      <td>1</td>\n",
              "      <td>3</td>\n",
              "      <td>Heikkinen, Miss. Laina</td>\n",
              "      <td>female</td>\n",
              "      <td>26.0</td>\n",
              "      <td>0</td>\n",
              "      <td>0</td>\n",
              "      <td>STON/O2. 3101282</td>\n",
              "      <td>7.9250</td>\n",
              "      <td>NaN</td>\n",
              "      <td>S</td>\n",
              "    </tr>\n",
              "  </tbody>\n",
              "</table>\n",
              "</div>"
            ],
            "text/plain": [
              "   PassengerId  Survived  Pclass  ...     Fare Cabin  Embarked\n",
              "0            1         0       3  ...   7.2500   NaN         S\n",
              "1            2         1       1  ...  71.2833   C85         C\n",
              "2            3         1       3  ...   7.9250   NaN         S\n",
              "\n",
              "[3 rows x 12 columns]"
            ]
          },
          "metadata": {},
          "execution_count": 10
        }
      ]
    },
    {
      "cell_type": "code",
      "metadata": {
        "colab": {
          "base_uri": "https://localhost:8080/",
          "height": 175
        },
        "id": "rV_TP6dUon5J",
        "outputId": "86ad926f-e785-4035-d859-6bb701660426"
      },
      "source": [
        "df_titanic.tail(n = 4)"
      ],
      "execution_count": 11,
      "outputs": [
        {
          "output_type": "execute_result",
          "data": {
            "text/html": [
              "<div>\n",
              "<style scoped>\n",
              "    .dataframe tbody tr th:only-of-type {\n",
              "        vertical-align: middle;\n",
              "    }\n",
              "\n",
              "    .dataframe tbody tr th {\n",
              "        vertical-align: top;\n",
              "    }\n",
              "\n",
              "    .dataframe thead th {\n",
              "        text-align: right;\n",
              "    }\n",
              "</style>\n",
              "<table border=\"1\" class=\"dataframe\">\n",
              "  <thead>\n",
              "    <tr style=\"text-align: right;\">\n",
              "      <th></th>\n",
              "      <th>PassengerId</th>\n",
              "      <th>Survived</th>\n",
              "      <th>Pclass</th>\n",
              "      <th>Name</th>\n",
              "      <th>Sex</th>\n",
              "      <th>Age</th>\n",
              "      <th>SibSp</th>\n",
              "      <th>Parch</th>\n",
              "      <th>Ticket</th>\n",
              "      <th>Fare</th>\n",
              "      <th>Cabin</th>\n",
              "      <th>Embarked</th>\n",
              "    </tr>\n",
              "  </thead>\n",
              "  <tbody>\n",
              "    <tr>\n",
              "      <th>887</th>\n",
              "      <td>888</td>\n",
              "      <td>1</td>\n",
              "      <td>1</td>\n",
              "      <td>Graham, Miss. Margaret Edith</td>\n",
              "      <td>female</td>\n",
              "      <td>19.0</td>\n",
              "      <td>0</td>\n",
              "      <td>0</td>\n",
              "      <td>112053</td>\n",
              "      <td>30.00</td>\n",
              "      <td>B42</td>\n",
              "      <td>S</td>\n",
              "    </tr>\n",
              "    <tr>\n",
              "      <th>888</th>\n",
              "      <td>889</td>\n",
              "      <td>0</td>\n",
              "      <td>3</td>\n",
              "      <td>Johnston, Miss. Catherine Helen \"Carrie\"</td>\n",
              "      <td>female</td>\n",
              "      <td>NaN</td>\n",
              "      <td>1</td>\n",
              "      <td>2</td>\n",
              "      <td>W./C. 6607</td>\n",
              "      <td>23.45</td>\n",
              "      <td>NaN</td>\n",
              "      <td>S</td>\n",
              "    </tr>\n",
              "    <tr>\n",
              "      <th>889</th>\n",
              "      <td>890</td>\n",
              "      <td>1</td>\n",
              "      <td>1</td>\n",
              "      <td>Behr, Mr. Karl Howell</td>\n",
              "      <td>male</td>\n",
              "      <td>26.0</td>\n",
              "      <td>0</td>\n",
              "      <td>0</td>\n",
              "      <td>111369</td>\n",
              "      <td>30.00</td>\n",
              "      <td>C148</td>\n",
              "      <td>C</td>\n",
              "    </tr>\n",
              "    <tr>\n",
              "      <th>890</th>\n",
              "      <td>891</td>\n",
              "      <td>0</td>\n",
              "      <td>3</td>\n",
              "      <td>Dooley, Mr. Patrick</td>\n",
              "      <td>male</td>\n",
              "      <td>32.0</td>\n",
              "      <td>0</td>\n",
              "      <td>0</td>\n",
              "      <td>370376</td>\n",
              "      <td>7.75</td>\n",
              "      <td>NaN</td>\n",
              "      <td>Q</td>\n",
              "    </tr>\n",
              "  </tbody>\n",
              "</table>\n",
              "</div>"
            ],
            "text/plain": [
              "     PassengerId  Survived  Pclass  ...   Fare Cabin  Embarked\n",
              "887          888         1       1  ...  30.00   B42         S\n",
              "888          889         0       3  ...  23.45   NaN         S\n",
              "889          890         1       1  ...  30.00  C148         C\n",
              "890          891         0       3  ...   7.75   NaN         Q\n",
              "\n",
              "[4 rows x 12 columns]"
            ]
          },
          "metadata": {},
          "execution_count": 11
        }
      ]
    },
    {
      "cell_type": "markdown",
      "metadata": {
        "id": "SG3-VF49tzAT"
      },
      "source": [
        "Además de consultar partes del DataFrame, también podemos consultar las etiquetas en las **filas** y las **columnas**, así como todos los **valores** del DataFrame.\n",
        " \n",
        "```python\n",
        "columnas = df.columns  # Obtenemos columnas\n",
        "indice = df.index  # Obtenemos filas\n",
        "valores = df.values  # Obtenemos valores\n",
        "```\n",
        "Veamos un ejemplo de esto:\n"
      ]
    },
    {
      "cell_type": "code",
      "metadata": {
        "colab": {
          "base_uri": "https://localhost:8080/",
          "height": 230
        },
        "id": "BJQX6Su5uc55",
        "outputId": "19ddb8b8-293f-427d-8d2d-4a80a54489d8"
      },
      "source": [
        "columnas = df_dict.columns\n",
        "filas = df_dict.index\n",
        "valores = df_dict.values\n",
        "\n",
        "print('Columnas: ', columnas, '\\nFilas: ', filas)\n",
        "print(valores, type(valores))  # Los valores son una matriz de NumPy!!\n",
        "\n",
        "df_dict   # Recordamos el DataFrame de donde obtenemos estos valores"
      ],
      "execution_count": 12,
      "outputs": [
        {
          "output_type": "stream",
          "text": [
            "Columnas:  Index(['Nombre', 'Edad', 'Altura'], dtype='object') \n",
            "Filas:  Index(['Persona 1', 'Persona 2', 'Persona 3'], dtype='object')\n",
            "[['Juan' 18 1.73]\n",
            " ['María' 22 1.8]\n",
            " ['Guadalupe' 34 1.5]] <class 'numpy.ndarray'>\n"
          ],
          "name": "stdout"
        },
        {
          "output_type": "execute_result",
          "data": {
            "text/html": [
              "<div>\n",
              "<style scoped>\n",
              "    .dataframe tbody tr th:only-of-type {\n",
              "        vertical-align: middle;\n",
              "    }\n",
              "\n",
              "    .dataframe tbody tr th {\n",
              "        vertical-align: top;\n",
              "    }\n",
              "\n",
              "    .dataframe thead th {\n",
              "        text-align: right;\n",
              "    }\n",
              "</style>\n",
              "<table border=\"1\" class=\"dataframe\">\n",
              "  <thead>\n",
              "    <tr style=\"text-align: right;\">\n",
              "      <th></th>\n",
              "      <th>Nombre</th>\n",
              "      <th>Edad</th>\n",
              "      <th>Altura</th>\n",
              "    </tr>\n",
              "  </thead>\n",
              "  <tbody>\n",
              "    <tr>\n",
              "      <th>Persona 1</th>\n",
              "      <td>Juan</td>\n",
              "      <td>18</td>\n",
              "      <td>1.73</td>\n",
              "    </tr>\n",
              "    <tr>\n",
              "      <th>Persona 2</th>\n",
              "      <td>María</td>\n",
              "      <td>22</td>\n",
              "      <td>1.80</td>\n",
              "    </tr>\n",
              "    <tr>\n",
              "      <th>Persona 3</th>\n",
              "      <td>Guadalupe</td>\n",
              "      <td>34</td>\n",
              "      <td>1.50</td>\n",
              "    </tr>\n",
              "  </tbody>\n",
              "</table>\n",
              "</div>"
            ],
            "text/plain": [
              "              Nombre  Edad  Altura\n",
              "Persona 1       Juan    18    1.73\n",
              "Persona 2      María    22    1.80\n",
              "Persona 3  Guadalupe    34    1.50"
            ]
          },
          "metadata": {},
          "execution_count": 12
        }
      ]
    },
    {
      "cell_type": "markdown",
      "metadata": {
        "id": "7zzgbT7B0Qo9"
      },
      "source": [
        "Finalmente, cuando tenemos un conjunto de datos, nos será útil hacer un análisis inicial (exploratorio) de los datos. Si consideramos que en las columnas tenemos **variables** y en las filas distintos registros de estas, podemos obtener valores de interés con: \n",
        " \n",
        "```python\n",
        "# Describimos en general el DataFrame\n",
        "df.describe()\n",
        "```\n",
        "Por ejemplo, obtenemos una descripción del DataFrame de la densidad poblacional:\n"
      ]
    },
    {
      "cell_type": "code",
      "metadata": {
        "colab": {
          "base_uri": "https://localhost:8080/",
          "height": 299
        },
        "id": "GKrr4_3T0Pgo",
        "outputId": "45dcb074-2764-4ccb-b03e-68f047fe2f68"
      },
      "source": [
        "df_poblacion.describe()"
      ],
      "execution_count": 13,
      "outputs": [
        {
          "output_type": "execute_result",
          "data": {
            "text/html": [
              "<div>\n",
              "<style scoped>\n",
              "    .dataframe tbody tr th:only-of-type {\n",
              "        vertical-align: middle;\n",
              "    }\n",
              "\n",
              "    .dataframe tbody tr th {\n",
              "        vertical-align: top;\n",
              "    }\n",
              "\n",
              "    .dataframe thead th {\n",
              "        text-align: right;\n",
              "    }\n",
              "</style>\n",
              "<table border=\"1\" class=\"dataframe\">\n",
              "  <thead>\n",
              "    <tr style=\"text-align: right;\">\n",
              "      <th></th>\n",
              "      <th>Rank</th>\n",
              "      <th>Population</th>\n",
              "      <th>Area(km2)</th>\n",
              "      <th>Density(pop/km2)</th>\n",
              "    </tr>\n",
              "  </thead>\n",
              "  <tbody>\n",
              "    <tr>\n",
              "      <th>count</th>\n",
              "      <td>10.00000</td>\n",
              "      <td>1.000000e+01</td>\n",
              "      <td>1.000000e+01</td>\n",
              "      <td>10.000000</td>\n",
              "    </tr>\n",
              "    <tr>\n",
              "      <th>mean</th>\n",
              "      <td>5.50000</td>\n",
              "      <td>1.691407e+08</td>\n",
              "      <td>3.695132e+05</td>\n",
              "      <td>1321.900000</td>\n",
              "    </tr>\n",
              "    <tr>\n",
              "      <th>std</th>\n",
              "      <td>3.02765</td>\n",
              "      <td>4.288285e+08</td>\n",
              "      <td>1.026117e+06</td>\n",
              "      <td>2369.646924</td>\n",
              "    </tr>\n",
              "    <tr>\n",
              "      <th>min</th>\n",
              "      <td>1.00000</td>\n",
              "      <td>5.704000e+06</td>\n",
              "      <td>7.100000e+02</td>\n",
              "      <td>420.000000</td>\n",
              "    </tr>\n",
              "    <tr>\n",
              "      <th>25%</th>\n",
              "      <td>3.25000</td>\n",
              "      <td>9.937000e+06</td>\n",
              "      <td>2.313850e+04</td>\n",
              "      <td>426.500000</td>\n",
              "    </tr>\n",
              "    <tr>\n",
              "      <th>50%</th>\n",
              "      <td>5.50000</td>\n",
              "      <td>1.500200e+07</td>\n",
              "      <td>3.162900e+04</td>\n",
              "      <td>495.000000</td>\n",
              "    </tr>\n",
              "    <tr>\n",
              "      <th>75%</th>\n",
              "      <td>7.75000</td>\n",
              "      <td>4.473675e+07</td>\n",
              "      <td>8.503500e+04</td>\n",
              "      <td>655.000000</td>\n",
              "    </tr>\n",
              "    <tr>\n",
              "      <th>max</th>\n",
              "      <td>10.00000</td>\n",
              "      <td>1.381230e+09</td>\n",
              "      <td>3.287240e+06</td>\n",
              "      <td>8033.000000</td>\n",
              "    </tr>\n",
              "  </tbody>\n",
              "</table>\n",
              "</div>"
            ],
            "text/plain": [
              "           Rank    Population     Area(km2)  Density(pop/km2)\n",
              "count  10.00000  1.000000e+01  1.000000e+01         10.000000\n",
              "mean    5.50000  1.691407e+08  3.695132e+05       1321.900000\n",
              "std     3.02765  4.288285e+08  1.026117e+06       2369.646924\n",
              "min     1.00000  5.704000e+06  7.100000e+02        420.000000\n",
              "25%     3.25000  9.937000e+06  2.313850e+04        426.500000\n",
              "50%     5.50000  1.500200e+07  3.162900e+04        495.000000\n",
              "75%     7.75000  4.473675e+07  8.503500e+04        655.000000\n",
              "max    10.00000  1.381230e+09  3.287240e+06       8033.000000"
            ]
          },
          "metadata": {},
          "execution_count": 13
        }
      ]
    },
    {
      "cell_type": "markdown",
      "metadata": {
        "id": "4KCcaNPmI96x"
      },
      "source": [
        "Obtenemos valores de interés de las variables, como el valor máximo, valor mínimo, media, etc. Pero, ¿qué pasa si tenemos las variables en las filas?. Podemos **trasponer** el DataFrame, de manera similar a lo que se hizo en el módulo de NumPy:\n",
        " \n",
        "```python\n",
        "# Trasponemos un dataframe y guardamos el resultado\n",
        "df_traspuesto = df.T\n",
        "```\n",
        "Por ejemplo:\n"
      ]
    },
    {
      "cell_type": "code",
      "metadata": {
        "colab": {
          "base_uri": "https://localhost:8080/",
          "height": 175
        },
        "id": "yxKmkK6NJwnD",
        "outputId": "3154a78f-d664-4891-d8b1-c77447bf7b9e"
      },
      "source": [
        "df_poblacion_traspuesto = df_poblacion.T\n",
        "df_poblacion_traspuesto"
      ],
      "execution_count": 14,
      "outputs": [
        {
          "output_type": "execute_result",
          "data": {
            "text/html": [
              "<div>\n",
              "<style scoped>\n",
              "    .dataframe tbody tr th:only-of-type {\n",
              "        vertical-align: middle;\n",
              "    }\n",
              "\n",
              "    .dataframe tbody tr th {\n",
              "        vertical-align: top;\n",
              "    }\n",
              "\n",
              "    .dataframe thead th {\n",
              "        text-align: right;\n",
              "    }\n",
              "</style>\n",
              "<table border=\"1\" class=\"dataframe\">\n",
              "  <thead>\n",
              "    <tr style=\"text-align: right;\">\n",
              "      <th>Country</th>\n",
              "      <th>Singapore</th>\n",
              "      <th>Bangladesh</th>\n",
              "      <th>Lebanon</th>\n",
              "      <th>Taiwan</th>\n",
              "      <th>South Korea</th>\n",
              "      <th>Rwanda</th>\n",
              "      <th>Haiti</th>\n",
              "      <th>Netherlands</th>\n",
              "      <th>Israel</th>\n",
              "      <th>India</th>\n",
              "    </tr>\n",
              "  </thead>\n",
              "  <tbody>\n",
              "    <tr>\n",
              "      <th>Rank</th>\n",
              "      <td>1</td>\n",
              "      <td>2</td>\n",
              "      <td>3</td>\n",
              "      <td>4</td>\n",
              "      <td>5</td>\n",
              "      <td>6</td>\n",
              "      <td>7</td>\n",
              "      <td>8</td>\n",
              "      <td>9</td>\n",
              "      <td>10</td>\n",
              "    </tr>\n",
              "    <tr>\n",
              "      <th>Population</th>\n",
              "      <td>5704000</td>\n",
              "      <td>171260000</td>\n",
              "      <td>6856000</td>\n",
              "      <td>23604000</td>\n",
              "      <td>51781000</td>\n",
              "      <td>12374000</td>\n",
              "      <td>11578000</td>\n",
              "      <td>17630000</td>\n",
              "      <td>9390000</td>\n",
              "      <td>1381230000</td>\n",
              "    </tr>\n",
              "    <tr>\n",
              "      <th>Area(km2)</th>\n",
              "      <td>710</td>\n",
              "      <td>143998</td>\n",
              "      <td>10452</td>\n",
              "      <td>36193</td>\n",
              "      <td>99538</td>\n",
              "      <td>26338</td>\n",
              "      <td>27065</td>\n",
              "      <td>41526</td>\n",
              "      <td>22072</td>\n",
              "      <td>3287240</td>\n",
              "    </tr>\n",
              "    <tr>\n",
              "      <th>Density(pop/km2)</th>\n",
              "      <td>8033</td>\n",
              "      <td>1189</td>\n",
              "      <td>656</td>\n",
              "      <td>652</td>\n",
              "      <td>520</td>\n",
              "      <td>470</td>\n",
              "      <td>428</td>\n",
              "      <td>425</td>\n",
              "      <td>426</td>\n",
              "      <td>420</td>\n",
              "    </tr>\n",
              "  </tbody>\n",
              "</table>\n",
              "</div>"
            ],
            "text/plain": [
              "Country           Singapore  Bangladesh  ...   Israel       India\n",
              "Rank                      1           2  ...        9          10\n",
              "Population          5704000   171260000  ...  9390000  1381230000\n",
              "Area(km2)               710      143998  ...    22072     3287240\n",
              "Density(pop/km2)       8033        1189  ...      426         420\n",
              "\n",
              "[4 rows x 10 columns]"
            ]
          },
          "metadata": {},
          "execution_count": 14
        }
      ]
    },
    {
      "cell_type": "markdown",
      "metadata": {
        "id": "KtzwM_0AM6GG"
      },
      "source": [
        "Para seleccionar utilizando las **etiquetas** (nombres de filas y columnas) usamos el método **loc()**. Funciona como sigue:\n",
        " \n",
        "```python\n",
        "# Seleccionamos una sola columna.\n",
        "serie_columna = df.loc[:, ['Columna1']]\n",
        " \n",
        "# Seleccionamos más de una columna.\n",
        "df_columnas = df.loc[:, ['Columna1','Columna2']]\n",
        " \n",
        "# Seleccionamos más de una fila.\n",
        "df_filas = df.loc[['Indice1', 'Indice2'], :]\n",
        "```\n",
        "Es importante notar que esta selección no afecta al DataFrame original, y que además lo que no se selecciona se conserva (por ejemplo, al seleccionar una sola columna, el nuevo DataFrame conserva todas las filas). Veamos un ejemplo con los datos de densidad poblacional.\n"
      ]
    },
    {
      "cell_type": "code",
      "metadata": {
        "colab": {
          "base_uri": "https://localhost:8080/",
          "height": 237
        },
        "id": "Z-9dVIP5xHCy",
        "outputId": "f430ba71-7be2-43e2-f30f-73c2acce4ff8"
      },
      "source": [
        "# Seleccionamos dos columnas\n",
        "rank_densidad = df_poblacion.loc[:,['Rank', 'Density(pop/km2)']]\n",
        "rank_densidad.head()"
      ],
      "execution_count": 15,
      "outputs": [
        {
          "output_type": "execute_result",
          "data": {
            "text/html": [
              "<div>\n",
              "<style scoped>\n",
              "    .dataframe tbody tr th:only-of-type {\n",
              "        vertical-align: middle;\n",
              "    }\n",
              "\n",
              "    .dataframe tbody tr th {\n",
              "        vertical-align: top;\n",
              "    }\n",
              "\n",
              "    .dataframe thead th {\n",
              "        text-align: right;\n",
              "    }\n",
              "</style>\n",
              "<table border=\"1\" class=\"dataframe\">\n",
              "  <thead>\n",
              "    <tr style=\"text-align: right;\">\n",
              "      <th></th>\n",
              "      <th>Rank</th>\n",
              "      <th>Density(pop/km2)</th>\n",
              "    </tr>\n",
              "    <tr>\n",
              "      <th>Country</th>\n",
              "      <th></th>\n",
              "      <th></th>\n",
              "    </tr>\n",
              "  </thead>\n",
              "  <tbody>\n",
              "    <tr>\n",
              "      <th>Singapore</th>\n",
              "      <td>1</td>\n",
              "      <td>8033</td>\n",
              "    </tr>\n",
              "    <tr>\n",
              "      <th>Bangladesh</th>\n",
              "      <td>2</td>\n",
              "      <td>1189</td>\n",
              "    </tr>\n",
              "    <tr>\n",
              "      <th>Lebanon</th>\n",
              "      <td>3</td>\n",
              "      <td>656</td>\n",
              "    </tr>\n",
              "    <tr>\n",
              "      <th>Taiwan</th>\n",
              "      <td>4</td>\n",
              "      <td>652</td>\n",
              "    </tr>\n",
              "    <tr>\n",
              "      <th>South Korea</th>\n",
              "      <td>5</td>\n",
              "      <td>520</td>\n",
              "    </tr>\n",
              "  </tbody>\n",
              "</table>\n",
              "</div>"
            ],
            "text/plain": [
              "             Rank  Density(pop/km2)\n",
              "Country                            \n",
              "Singapore       1              8033\n",
              "Bangladesh      2              1189\n",
              "Lebanon         3               656\n",
              "Taiwan          4               652\n",
              "South Korea     5               520"
            ]
          },
          "metadata": {},
          "execution_count": 15
        }
      ]
    },
    {
      "cell_type": "code",
      "metadata": {
        "colab": {
          "base_uri": "https://localhost:8080/",
          "height": 393
        },
        "id": "xGDmr62wxQVO",
        "outputId": "39f10501-c104-4e52-9315-6bde442c15ae"
      },
      "source": [
        "# Seleccionamos una sola columna\n",
        "poblacion = df_poblacion.loc[:,['Population']]\n",
        "poblacion "
      ],
      "execution_count": 16,
      "outputs": [
        {
          "output_type": "execute_result",
          "data": {
            "text/html": [
              "<div>\n",
              "<style scoped>\n",
              "    .dataframe tbody tr th:only-of-type {\n",
              "        vertical-align: middle;\n",
              "    }\n",
              "\n",
              "    .dataframe tbody tr th {\n",
              "        vertical-align: top;\n",
              "    }\n",
              "\n",
              "    .dataframe thead th {\n",
              "        text-align: right;\n",
              "    }\n",
              "</style>\n",
              "<table border=\"1\" class=\"dataframe\">\n",
              "  <thead>\n",
              "    <tr style=\"text-align: right;\">\n",
              "      <th></th>\n",
              "      <th>Population</th>\n",
              "    </tr>\n",
              "    <tr>\n",
              "      <th>Country</th>\n",
              "      <th></th>\n",
              "    </tr>\n",
              "  </thead>\n",
              "  <tbody>\n",
              "    <tr>\n",
              "      <th>Singapore</th>\n",
              "      <td>5704000</td>\n",
              "    </tr>\n",
              "    <tr>\n",
              "      <th>Bangladesh</th>\n",
              "      <td>171260000</td>\n",
              "    </tr>\n",
              "    <tr>\n",
              "      <th>Lebanon</th>\n",
              "      <td>6856000</td>\n",
              "    </tr>\n",
              "    <tr>\n",
              "      <th>Taiwan</th>\n",
              "      <td>23604000</td>\n",
              "    </tr>\n",
              "    <tr>\n",
              "      <th>South Korea</th>\n",
              "      <td>51781000</td>\n",
              "    </tr>\n",
              "    <tr>\n",
              "      <th>Rwanda</th>\n",
              "      <td>12374000</td>\n",
              "    </tr>\n",
              "    <tr>\n",
              "      <th>Haiti</th>\n",
              "      <td>11578000</td>\n",
              "    </tr>\n",
              "    <tr>\n",
              "      <th>Netherlands</th>\n",
              "      <td>17630000</td>\n",
              "    </tr>\n",
              "    <tr>\n",
              "      <th>Israel</th>\n",
              "      <td>9390000</td>\n",
              "    </tr>\n",
              "    <tr>\n",
              "      <th>India</th>\n",
              "      <td>1381230000</td>\n",
              "    </tr>\n",
              "  </tbody>\n",
              "</table>\n",
              "</div>"
            ],
            "text/plain": [
              "             Population\n",
              "Country                \n",
              "Singapore       5704000\n",
              "Bangladesh    171260000\n",
              "Lebanon         6856000\n",
              "Taiwan         23604000\n",
              "South Korea    51781000\n",
              "Rwanda         12374000\n",
              "Haiti          11578000\n",
              "Netherlands    17630000\n",
              "Israel          9390000\n",
              "India        1381230000"
            ]
          },
          "metadata": {},
          "execution_count": 16
        }
      ]
    },
    {
      "cell_type": "code",
      "metadata": {
        "colab": {
          "base_uri": "https://localhost:8080/",
          "height": 175
        },
        "id": "kOzDXJkVzo0y",
        "outputId": "3211d3d1-3831-4eb8-b720-68e5ca5f40a2"
      },
      "source": [
        "# Seleccionamos solo 3 países (3 filas)\n",
        "paises_seleccionados = df_poblacion.loc[['India', 'Taiwan', 'Haiti'],:]\n",
        "paises_seleccionados"
      ],
      "execution_count": 17,
      "outputs": [
        {
          "output_type": "execute_result",
          "data": {
            "text/html": [
              "<div>\n",
              "<style scoped>\n",
              "    .dataframe tbody tr th:only-of-type {\n",
              "        vertical-align: middle;\n",
              "    }\n",
              "\n",
              "    .dataframe tbody tr th {\n",
              "        vertical-align: top;\n",
              "    }\n",
              "\n",
              "    .dataframe thead th {\n",
              "        text-align: right;\n",
              "    }\n",
              "</style>\n",
              "<table border=\"1\" class=\"dataframe\">\n",
              "  <thead>\n",
              "    <tr style=\"text-align: right;\">\n",
              "      <th></th>\n",
              "      <th>Rank</th>\n",
              "      <th>Population</th>\n",
              "      <th>Area(km2)</th>\n",
              "      <th>Density(pop/km2)</th>\n",
              "    </tr>\n",
              "    <tr>\n",
              "      <th>Country</th>\n",
              "      <th></th>\n",
              "      <th></th>\n",
              "      <th></th>\n",
              "      <th></th>\n",
              "    </tr>\n",
              "  </thead>\n",
              "  <tbody>\n",
              "    <tr>\n",
              "      <th>India</th>\n",
              "      <td>10</td>\n",
              "      <td>1381230000</td>\n",
              "      <td>3287240</td>\n",
              "      <td>420</td>\n",
              "    </tr>\n",
              "    <tr>\n",
              "      <th>Taiwan</th>\n",
              "      <td>4</td>\n",
              "      <td>23604000</td>\n",
              "      <td>36193</td>\n",
              "      <td>652</td>\n",
              "    </tr>\n",
              "    <tr>\n",
              "      <th>Haiti</th>\n",
              "      <td>7</td>\n",
              "      <td>11578000</td>\n",
              "      <td>27065</td>\n",
              "      <td>428</td>\n",
              "    </tr>\n",
              "  </tbody>\n",
              "</table>\n",
              "</div>"
            ],
            "text/plain": [
              "         Rank  Population  Area(km2)  Density(pop/km2)\n",
              "Country                                               \n",
              "India      10  1381230000    3287240               420\n",
              "Taiwan      4    23604000      36193               652\n",
              "Haiti       7    11578000      27065               428"
            ]
          },
          "metadata": {},
          "execution_count": 17
        }
      ]
    },
    {
      "cell_type": "markdown",
      "metadata": {
        "id": "GghoO0aHWhqZ"
      },
      "source": [
        "También puedes seleccionar al mismo tiempo columnas y filas:\n",
        "\n",
        "<center>\n",
        "    <img width=\"70%\" src=\"https://pandas.pydata.org/docs/_images/03_subset_columns_rows.svg\">\n",
        "</center>\n",
        "\n",
        "Ejercicio: \n",
        "- Del DataFrame de densidad poblacional, filtra las columnas de población y área, y las filas de Singapore, Bangladesh y Lebanon. "
      ]
    },
    {
      "cell_type": "code",
      "metadata": {
        "id": "Lwwj6bzxe2GS"
      },
      "source": [
        "# To-Do\n"
      ],
      "execution_count": 18,
      "outputs": []
    },
    {
      "cell_type": "markdown",
      "metadata": {
        "id": "tuD5iy6gfp9k"
      },
      "source": [
        "Finalmente, puedes obtener una única celda de dos maneras:\n",
        "\n",
        "```python\n",
        "dato = df.loc['Fila', 'Columna']\n",
        "dato = df.at['Fila', 'Columna'] # Lo mismo, pero más rápido\n",
        "```\n",
        "Por ejemplo, obtenemos la densidad poblacional de la India:\n"
      ]
    },
    {
      "cell_type": "code",
      "metadata": {
        "colab": {
          "base_uri": "https://localhost:8080/"
        },
        "id": "6f91qlAxgarO",
        "outputId": "f8da3f18-646e-4574-b29d-a305cf59f0d5"
      },
      "source": [
        "densidad_india = df_poblacion.at['India', 'Density(pop/km2)']\n",
        "print(densidad_india)"
      ],
      "execution_count": 19,
      "outputs": [
        {
          "output_type": "stream",
          "text": [
            "420\n"
          ],
          "name": "stdout"
        }
      ]
    },
    {
      "cell_type": "markdown",
      "metadata": {
        "id": "uhYn4toLNot3"
      },
      "source": [
        "## Selección de datos por posición.\n",
        " \n",
        "En la sección anterior, seleccionamos dado a **etiquetas**, esto es, con los nombres de las filas y las columnas. Podemos hacer lo mismo pero está vez con la **posición**. Para esto, en lugar de **loc()** y **at()**, usamos **iloc()** y **iat()**. \n",
        " \n",
        "```python\n",
        "# Seleccionamos las primeras 2 columnas.\n",
        "df_columnas = df.iloc[:, 0:1]\n",
        " \n",
        "# Seleccionamos las últimas 3 filas\n",
        "df_filas = df.iloc[-3:, :]\n",
        " \n",
        "# Elemento unico\n",
        "dato = df.iat[0, 0]\n",
        "```\n",
        "Retomamos el ejemplo con la densidad de población.\n"
      ]
    },
    {
      "cell_type": "code",
      "metadata": {
        "id": "AHk_654sNozk",
        "colab": {
          "base_uri": "https://localhost:8080/",
          "height": 175
        },
        "outputId": "8383b871-478e-42bd-fd1f-1ad2319c7c3b"
      },
      "source": [
        "poblacion_area = df_poblacion.iloc[:, 1:3]\n",
        "poblacion_area.head(3)"
      ],
      "execution_count": 20,
      "outputs": [
        {
          "output_type": "execute_result",
          "data": {
            "text/html": [
              "<div>\n",
              "<style scoped>\n",
              "    .dataframe tbody tr th:only-of-type {\n",
              "        vertical-align: middle;\n",
              "    }\n",
              "\n",
              "    .dataframe tbody tr th {\n",
              "        vertical-align: top;\n",
              "    }\n",
              "\n",
              "    .dataframe thead th {\n",
              "        text-align: right;\n",
              "    }\n",
              "</style>\n",
              "<table border=\"1\" class=\"dataframe\">\n",
              "  <thead>\n",
              "    <tr style=\"text-align: right;\">\n",
              "      <th></th>\n",
              "      <th>Population</th>\n",
              "      <th>Area(km2)</th>\n",
              "    </tr>\n",
              "    <tr>\n",
              "      <th>Country</th>\n",
              "      <th></th>\n",
              "      <th></th>\n",
              "    </tr>\n",
              "  </thead>\n",
              "  <tbody>\n",
              "    <tr>\n",
              "      <th>Singapore</th>\n",
              "      <td>5704000</td>\n",
              "      <td>710</td>\n",
              "    </tr>\n",
              "    <tr>\n",
              "      <th>Bangladesh</th>\n",
              "      <td>171260000</td>\n",
              "      <td>143998</td>\n",
              "    </tr>\n",
              "    <tr>\n",
              "      <th>Lebanon</th>\n",
              "      <td>6856000</td>\n",
              "      <td>10452</td>\n",
              "    </tr>\n",
              "  </tbody>\n",
              "</table>\n",
              "</div>"
            ],
            "text/plain": [
              "            Population  Area(km2)\n",
              "Country                          \n",
              "Singapore      5704000        710\n",
              "Bangladesh   171260000     143998\n",
              "Lebanon        6856000      10452"
            ]
          },
          "metadata": {},
          "execution_count": 20
        }
      ]
    },
    {
      "cell_type": "code",
      "metadata": {
        "colab": {
          "base_uri": "https://localhost:8080/",
          "height": 175
        },
        "id": "eSpR6VgmkAds",
        "outputId": "a582655e-a434-4c82-9c27-31bd231311f6"
      },
      "source": [
        "tres_paises = df_poblacion.iloc[-3:, :]\n",
        "tres_paises"
      ],
      "execution_count": 21,
      "outputs": [
        {
          "output_type": "execute_result",
          "data": {
            "text/html": [
              "<div>\n",
              "<style scoped>\n",
              "    .dataframe tbody tr th:only-of-type {\n",
              "        vertical-align: middle;\n",
              "    }\n",
              "\n",
              "    .dataframe tbody tr th {\n",
              "        vertical-align: top;\n",
              "    }\n",
              "\n",
              "    .dataframe thead th {\n",
              "        text-align: right;\n",
              "    }\n",
              "</style>\n",
              "<table border=\"1\" class=\"dataframe\">\n",
              "  <thead>\n",
              "    <tr style=\"text-align: right;\">\n",
              "      <th></th>\n",
              "      <th>Rank</th>\n",
              "      <th>Population</th>\n",
              "      <th>Area(km2)</th>\n",
              "      <th>Density(pop/km2)</th>\n",
              "    </tr>\n",
              "    <tr>\n",
              "      <th>Country</th>\n",
              "      <th></th>\n",
              "      <th></th>\n",
              "      <th></th>\n",
              "      <th></th>\n",
              "    </tr>\n",
              "  </thead>\n",
              "  <tbody>\n",
              "    <tr>\n",
              "      <th>Netherlands</th>\n",
              "      <td>8</td>\n",
              "      <td>17630000</td>\n",
              "      <td>41526</td>\n",
              "      <td>425</td>\n",
              "    </tr>\n",
              "    <tr>\n",
              "      <th>Israel</th>\n",
              "      <td>9</td>\n",
              "      <td>9390000</td>\n",
              "      <td>22072</td>\n",
              "      <td>426</td>\n",
              "    </tr>\n",
              "    <tr>\n",
              "      <th>India</th>\n",
              "      <td>10</td>\n",
              "      <td>1381230000</td>\n",
              "      <td>3287240</td>\n",
              "      <td>420</td>\n",
              "    </tr>\n",
              "  </tbody>\n",
              "</table>\n",
              "</div>"
            ],
            "text/plain": [
              "             Rank  Population  Area(km2)  Density(pop/km2)\n",
              "Country                                                   \n",
              "Netherlands     8    17630000      41526               425\n",
              "Israel          9     9390000      22072               426\n",
              "India          10  1381230000    3287240               420"
            ]
          },
          "metadata": {},
          "execution_count": 21
        }
      ]
    },
    {
      "cell_type": "code",
      "metadata": {
        "colab": {
          "base_uri": "https://localhost:8080/"
        },
        "id": "v5KjssyWkoAb",
        "outputId": "7e451521-fdd4-4f8e-af8f-d6f42617e201"
      },
      "source": [
        "dato = df_poblacion.iat[3, 3]\n",
        "print(dato)"
      ],
      "execution_count": 22,
      "outputs": [
        {
          "output_type": "stream",
          "text": [
            "652\n"
          ],
          "name": "stdout"
        }
      ]
    },
    {
      "cell_type": "markdown",
      "metadata": {
        "id": "MeiC0lYQlUJF"
      },
      "source": [
        "Ejercicio: \n",
        "- Del DataFrame del Titanic, filtra y quédate solo con columnas y filas pares."
      ]
    },
    {
      "cell_type": "code",
      "metadata": {
        "id": "Mb7xZTJSlUy6"
      },
      "source": [
        "# To Do"
      ],
      "execution_count": 23,
      "outputs": []
    },
    {
      "cell_type": "markdown",
      "metadata": {
        "id": "R7wnDW31No5V"
      },
      "source": [
        "## Operaciones básicas: Estadísticos.\n",
        " \n",
        "Como se ha mencionado anteriormente, en cada columna normalmente se tendrá una **variable**, como nombres, edad, etc. y en cada fila habrá un registro de esa variable. Hay diversos **estadísticos** qué podemos calcular para conocer más sobre la variable y como se comporta. Por ejemplo, si suponemos que una variable sigue un comportamiento normal, entonces conocer su media (promedio) $\\mu$ y su desviación estándar $\\sigma$ nos será de mucha utilidad. Si $\\mu = 10$ y $\\sigma = 3$, tenemos:\n",
        " \n",
        "<center>\n",
        "    <img width=\"40%\" src=\"https://i.imgur.com/aqUvIQK.png\">\n",
        "</center>\n",
        " \n",
        "Si quieres ver como hacer una gráfica como esta con Python, visita este [link](https://gist.github.com/GabrielMissael/6987ffd5e7fd83e2906ae201245d847b#file-normal_dist-py). Ya obtuvimos algunos valores con **.describe()**, y ahora veremos algunas otras funciones útiles.\n",
        " \n",
        "```python\n",
        "# Obtenemos la media de todas las columnas\n",
        "promedios = df.mean()\n",
        " \n",
        "# Media de una sola columna usando .loc()\n",
        "promedio = df.loc[:,'Columna1'].mean()\n",
        " \n",
        "# Podemos usar describe() en solo una sección del df\n",
        "descripcion = df.iloc[0:15, [2, 4]]\n",
        " \n",
        "# También podemos obtener la desviación estándar\n",
        "stds = df.std()\n",
        " \n",
        "# Valores mínimos y máximos\n",
        "maxs = df.max()\n",
        "mins = df.min()\n",
        "```\n",
        "Obtengamos algunos valores del dataframe de las casas de California:\n"
      ]
    },
    {
      "cell_type": "code",
      "metadata": {
        "colab": {
          "base_uri": "https://localhost:8080/"
        },
        "id": "gdqnp3gxn26h",
        "outputId": "30050860-c784-4272-fd8e-975d69c2a9fc"
      },
      "source": [
        "# Promedio de población en cada sección\n",
        "promedio_poblacion = df_casas.loc[:,'population'].mean()\n",
        "promedio_poblacion"
      ],
      "execution_count": 24,
      "outputs": [
        {
          "output_type": "execute_result",
          "data": {
            "text/plain": [
              "1402.7986666666666"
            ]
          },
          "metadata": {},
          "execution_count": 24
        }
      ]
    },
    {
      "cell_type": "code",
      "metadata": {
        "colab": {
          "base_uri": "https://localhost:8080/"
        },
        "id": "1wwIh691oAmf",
        "outputId": "f6cbfc1e-df68-427f-a4dd-cab0fecca1c3"
      },
      "source": [
        "# Desviaciones estándar de cada variable\n",
        "stds = df_casas.std()\n",
        "stds"
      ],
      "execution_count": 25,
      "outputs": [
        {
          "output_type": "execute_result",
          "data": {
            "text/plain": [
              "longitude                  1.994936\n",
              "latitude                   2.129670\n",
              "housing_median_age        12.555396\n",
              "total_rooms             2155.593332\n",
              "total_bedrooms           415.654368\n",
              "population              1030.543012\n",
              "households               365.422710\n",
              "median_income              1.854512\n",
              "median_house_value    113119.687470\n",
              "dtype: float64"
            ]
          },
          "metadata": {},
          "execution_count": 25
        }
      ]
    },
    {
      "cell_type": "code",
      "metadata": {
        "colab": {
          "base_uri": "https://localhost:8080/"
        },
        "id": "hvCQIiLzoc9Z",
        "outputId": "de594cea-69e4-4d1c-bacd-1e2ed442c687"
      },
      "source": [
        "# Obtenemos el intervalo de las variables\n",
        "mins = df_casas.min()\n",
        "maxs = df_casas.max()\n",
        "intervalo = maxs-mins\n",
        "intervalo"
      ],
      "execution_count": 26,
      "outputs": [
        {
          "output_type": "execute_result",
          "data": {
            "text/plain": [
              "longitude                  9.6900\n",
              "latitude                   9.3600\n",
              "housing_median_age        51.0000\n",
              "total_rooms            30444.0000\n",
              "total_bedrooms          5417.0000\n",
              "population             11930.0000\n",
              "households              4928.0000\n",
              "median_income             14.5002\n",
              "median_house_value    477501.0000\n",
              "dtype: float64"
            ]
          },
          "metadata": {},
          "execution_count": 26
        }
      ]
    },
    {
      "cell_type": "markdown",
      "metadata": {
        "id": "xT9hcuKJNpEq"
      },
      "source": [
        "## Operaciones básicas: Apply.\n",
        " \n",
        "En muchas ocasiones, no sólo estaremos interesados en consultar o describir los datos, si no también en **operarlos**. Podemos aplicar funciones a los datos para obtener valores de interés. Para esto, usamos **.apply()**.\n",
        " \n",
        "```python\n",
        "# Aplicamos la función seno a los datos\n",
        "df_seno = df.apply(np.sin)\n",
        "```\n",
        "Veamos un ejemplo:\n"
      ]
    },
    {
      "cell_type": "code",
      "metadata": {
        "id": "8csO2fqGNpKT",
        "colab": {
          "base_uri": "https://localhost:8080/",
          "height": 237
        },
        "outputId": "052afbb0-076e-4c17-9ca9-768be1836d14"
      },
      "source": [
        "df_seno = df_poblacion.apply(np.sin)\n",
        "df_seno.head()"
      ],
      "execution_count": 27,
      "outputs": [
        {
          "output_type": "execute_result",
          "data": {
            "text/html": [
              "<div>\n",
              "<style scoped>\n",
              "    .dataframe tbody tr th:only-of-type {\n",
              "        vertical-align: middle;\n",
              "    }\n",
              "\n",
              "    .dataframe tbody tr th {\n",
              "        vertical-align: top;\n",
              "    }\n",
              "\n",
              "    .dataframe thead th {\n",
              "        text-align: right;\n",
              "    }\n",
              "</style>\n",
              "<table border=\"1\" class=\"dataframe\">\n",
              "  <thead>\n",
              "    <tr style=\"text-align: right;\">\n",
              "      <th></th>\n",
              "      <th>Rank</th>\n",
              "      <th>Population</th>\n",
              "      <th>Area(km2)</th>\n",
              "      <th>Density(pop/km2)</th>\n",
              "    </tr>\n",
              "    <tr>\n",
              "      <th>Country</th>\n",
              "      <th></th>\n",
              "      <th></th>\n",
              "      <th></th>\n",
              "      <th></th>\n",
              "    </tr>\n",
              "  </thead>\n",
              "  <tbody>\n",
              "    <tr>\n",
              "      <th>Singapore</th>\n",
              "      <td>0.841471</td>\n",
              "      <td>-0.959596</td>\n",
              "      <td>0.000060</td>\n",
              "      <td>0.052391</td>\n",
              "    </tr>\n",
              "    <tr>\n",
              "      <th>Bangladesh</th>\n",
              "      <td>0.909297</td>\n",
              "      <td>-0.332334</td>\n",
              "      <td>-0.040859</td>\n",
              "      <td>0.995695</td>\n",
              "    </tr>\n",
              "    <tr>\n",
              "      <th>Lebanon</th>\n",
              "      <td>0.141120</td>\n",
              "      <td>0.968836</td>\n",
              "      <td>0.078677</td>\n",
              "      <td>0.558739</td>\n",
              "    </tr>\n",
              "    <tr>\n",
              "      <th>Taiwan</th>\n",
              "      <td>-0.756802</td>\n",
              "      <td>0.985918</td>\n",
              "      <td>0.960547</td>\n",
              "      <td>-0.992865</td>\n",
              "    </tr>\n",
              "    <tr>\n",
              "      <th>South Korea</th>\n",
              "      <td>-0.958924</td>\n",
              "      <td>0.628872</td>\n",
              "      <td>-0.219826</td>\n",
              "      <td>-0.997795</td>\n",
              "    </tr>\n",
              "  </tbody>\n",
              "</table>\n",
              "</div>"
            ],
            "text/plain": [
              "                 Rank  Population  Area(km2)  Density(pop/km2)\n",
              "Country                                                       \n",
              "Singapore    0.841471   -0.959596   0.000060          0.052391\n",
              "Bangladesh   0.909297   -0.332334  -0.040859          0.995695\n",
              "Lebanon      0.141120    0.968836   0.078677          0.558739\n",
              "Taiwan      -0.756802    0.985918   0.960547         -0.992865\n",
              "South Korea -0.958924    0.628872  -0.219826         -0.997795"
            ]
          },
          "metadata": {},
          "execution_count": 27
        }
      ]
    },
    {
      "cell_type": "markdown",
      "metadata": {
        "id": "Whmh__Y7pgPq"
      },
      "source": [
        "En este caso no tiene mucho sentido aplicar $sin(x)$ a datos de población y área; \n",
        " \n",
        "**Ejercicio**\n",
        "Queremos conocer la densidad de los países el siguiente año. Si suponemos que la población de todos crecerá un $5\\%$, entonces:\n",
        "- Calcula la nueva población y actualiza esta columna."
      ]
    },
    {
      "cell_type": "code",
      "metadata": {
        "id": "WU4HNrheqRKL"
      },
      "source": [
        "# TO DO"
      ],
      "execution_count": 28,
      "outputs": []
    },
    {
      "cell_type": "markdown",
      "metadata": {
        "id": "AiPyGKEuNpO2"
      },
      "source": [
        "## Unión de datos: Concatenación\n",
        " \n",
        "Podemos unir dos DataFrames. Si ambos comparten columnas, entonces será como agregar más filas al final: \n",
        " \n",
        "<center>\n",
        "    <img width=\"70%\" src=\"https://pandas.pydata.org/docs/_images/08_concat_row.svg\">\n",
        "</center>\n",
        " \n",
        "Si se tienen algunas columnas diferentes, el DataFrame final tendrá columnas extra y **valores faltantes** (aunque también puedes elegir eliminar las columnas que no coinciden).\n",
        " \n",
        "Para esto, usamos: \n",
        " \n",
        "```python\n",
        "# Unimos dos DataFrames.\n",
        "df_nuevo = pd.concat([df1, df2])\n",
        "```\n",
        "Veamos algunos ejemplos:\n"
      ]
    },
    {
      "cell_type": "code",
      "metadata": {
        "id": "CrvItaXLNpTV",
        "colab": {
          "base_uri": "https://localhost:8080/",
          "height": 143
        },
        "outputId": "2f11f2e1-249a-4a4c-d3d8-d7e0b09820f1"
      },
      "source": [
        "df1 = pd.DataFrame(data = np.random.rand(3, 3), \n",
        "                   columns = ['A', 'B', 'C'])\n",
        "df1"
      ],
      "execution_count": 29,
      "outputs": [
        {
          "output_type": "execute_result",
          "data": {
            "text/html": [
              "<div>\n",
              "<style scoped>\n",
              "    .dataframe tbody tr th:only-of-type {\n",
              "        vertical-align: middle;\n",
              "    }\n",
              "\n",
              "    .dataframe tbody tr th {\n",
              "        vertical-align: top;\n",
              "    }\n",
              "\n",
              "    .dataframe thead th {\n",
              "        text-align: right;\n",
              "    }\n",
              "</style>\n",
              "<table border=\"1\" class=\"dataframe\">\n",
              "  <thead>\n",
              "    <tr style=\"text-align: right;\">\n",
              "      <th></th>\n",
              "      <th>A</th>\n",
              "      <th>B</th>\n",
              "      <th>C</th>\n",
              "    </tr>\n",
              "  </thead>\n",
              "  <tbody>\n",
              "    <tr>\n",
              "      <th>0</th>\n",
              "      <td>0.829581</td>\n",
              "      <td>0.891177</td>\n",
              "      <td>0.880162</td>\n",
              "    </tr>\n",
              "    <tr>\n",
              "      <th>1</th>\n",
              "      <td>0.399066</td>\n",
              "      <td>0.158844</td>\n",
              "      <td>0.007566</td>\n",
              "    </tr>\n",
              "    <tr>\n",
              "      <th>2</th>\n",
              "      <td>0.157604</td>\n",
              "      <td>0.632530</td>\n",
              "      <td>0.069168</td>\n",
              "    </tr>\n",
              "  </tbody>\n",
              "</table>\n",
              "</div>"
            ],
            "text/plain": [
              "          A         B         C\n",
              "0  0.829581  0.891177  0.880162\n",
              "1  0.399066  0.158844  0.007566\n",
              "2  0.157604  0.632530  0.069168"
            ]
          },
          "metadata": {},
          "execution_count": 29
        }
      ]
    },
    {
      "cell_type": "code",
      "metadata": {
        "colab": {
          "base_uri": "https://localhost:8080/",
          "height": 112
        },
        "id": "9mnXjswntWSj",
        "outputId": "24aadbaa-8fc0-4451-bc78-1397d3fefcee"
      },
      "source": [
        "df2 = pd.DataFrame(data = np.random.rand(2, 3), \n",
        "                   columns = ['A', 'B', 'C'], \n",
        "                   index = ['Elemento 1', 'Elemento 2'])\n",
        "df2"
      ],
      "execution_count": 30,
      "outputs": [
        {
          "output_type": "execute_result",
          "data": {
            "text/html": [
              "<div>\n",
              "<style scoped>\n",
              "    .dataframe tbody tr th:only-of-type {\n",
              "        vertical-align: middle;\n",
              "    }\n",
              "\n",
              "    .dataframe tbody tr th {\n",
              "        vertical-align: top;\n",
              "    }\n",
              "\n",
              "    .dataframe thead th {\n",
              "        text-align: right;\n",
              "    }\n",
              "</style>\n",
              "<table border=\"1\" class=\"dataframe\">\n",
              "  <thead>\n",
              "    <tr style=\"text-align: right;\">\n",
              "      <th></th>\n",
              "      <th>A</th>\n",
              "      <th>B</th>\n",
              "      <th>C</th>\n",
              "    </tr>\n",
              "  </thead>\n",
              "  <tbody>\n",
              "    <tr>\n",
              "      <th>Elemento 1</th>\n",
              "      <td>0.335417</td>\n",
              "      <td>0.112746</td>\n",
              "      <td>0.109142</td>\n",
              "    </tr>\n",
              "    <tr>\n",
              "      <th>Elemento 2</th>\n",
              "      <td>0.916801</td>\n",
              "      <td>0.376616</td>\n",
              "      <td>0.120646</td>\n",
              "    </tr>\n",
              "  </tbody>\n",
              "</table>\n",
              "</div>"
            ],
            "text/plain": [
              "                   A         B         C\n",
              "Elemento 1  0.335417  0.112746  0.109142\n",
              "Elemento 2  0.916801  0.376616  0.120646"
            ]
          },
          "metadata": {},
          "execution_count": 30
        }
      ]
    },
    {
      "cell_type": "code",
      "metadata": {
        "colab": {
          "base_uri": "https://localhost:8080/",
          "height": 112
        },
        "id": "963a_Iufta1Z",
        "outputId": "87248746-a16d-446d-893c-19b6ddb1c335"
      },
      "source": [
        "df3 = pd.DataFrame(data = np.random.rand(2, 3), columns = ['A', 'B', 'D'])\n",
        "df3"
      ],
      "execution_count": 31,
      "outputs": [
        {
          "output_type": "execute_result",
          "data": {
            "text/html": [
              "<div>\n",
              "<style scoped>\n",
              "    .dataframe tbody tr th:only-of-type {\n",
              "        vertical-align: middle;\n",
              "    }\n",
              "\n",
              "    .dataframe tbody tr th {\n",
              "        vertical-align: top;\n",
              "    }\n",
              "\n",
              "    .dataframe thead th {\n",
              "        text-align: right;\n",
              "    }\n",
              "</style>\n",
              "<table border=\"1\" class=\"dataframe\">\n",
              "  <thead>\n",
              "    <tr style=\"text-align: right;\">\n",
              "      <th></th>\n",
              "      <th>A</th>\n",
              "      <th>B</th>\n",
              "      <th>D</th>\n",
              "    </tr>\n",
              "  </thead>\n",
              "  <tbody>\n",
              "    <tr>\n",
              "      <th>0</th>\n",
              "      <td>0.606537</td>\n",
              "      <td>0.697093</td>\n",
              "      <td>0.813972</td>\n",
              "    </tr>\n",
              "    <tr>\n",
              "      <th>1</th>\n",
              "      <td>0.437390</td>\n",
              "      <td>0.651088</td>\n",
              "      <td>0.005562</td>\n",
              "    </tr>\n",
              "  </tbody>\n",
              "</table>\n",
              "</div>"
            ],
            "text/plain": [
              "          A         B         D\n",
              "0  0.606537  0.697093  0.813972\n",
              "1  0.437390  0.651088  0.005562"
            ]
          },
          "metadata": {},
          "execution_count": 31
        }
      ]
    },
    {
      "cell_type": "code",
      "metadata": {
        "colab": {
          "base_uri": "https://localhost:8080/",
          "height": 205
        },
        "id": "fNSbIP_6t5w4",
        "outputId": "9505f703-0f14-424c-832d-324e9da9b685"
      },
      "source": [
        "df = pd.concat([df1, df2])\n",
        "df"
      ],
      "execution_count": 32,
      "outputs": [
        {
          "output_type": "execute_result",
          "data": {
            "text/html": [
              "<div>\n",
              "<style scoped>\n",
              "    .dataframe tbody tr th:only-of-type {\n",
              "        vertical-align: middle;\n",
              "    }\n",
              "\n",
              "    .dataframe tbody tr th {\n",
              "        vertical-align: top;\n",
              "    }\n",
              "\n",
              "    .dataframe thead th {\n",
              "        text-align: right;\n",
              "    }\n",
              "</style>\n",
              "<table border=\"1\" class=\"dataframe\">\n",
              "  <thead>\n",
              "    <tr style=\"text-align: right;\">\n",
              "      <th></th>\n",
              "      <th>A</th>\n",
              "      <th>B</th>\n",
              "      <th>C</th>\n",
              "    </tr>\n",
              "  </thead>\n",
              "  <tbody>\n",
              "    <tr>\n",
              "      <th>0</th>\n",
              "      <td>0.829581</td>\n",
              "      <td>0.891177</td>\n",
              "      <td>0.880162</td>\n",
              "    </tr>\n",
              "    <tr>\n",
              "      <th>1</th>\n",
              "      <td>0.399066</td>\n",
              "      <td>0.158844</td>\n",
              "      <td>0.007566</td>\n",
              "    </tr>\n",
              "    <tr>\n",
              "      <th>2</th>\n",
              "      <td>0.157604</td>\n",
              "      <td>0.632530</td>\n",
              "      <td>0.069168</td>\n",
              "    </tr>\n",
              "    <tr>\n",
              "      <th>Elemento 1</th>\n",
              "      <td>0.335417</td>\n",
              "      <td>0.112746</td>\n",
              "      <td>0.109142</td>\n",
              "    </tr>\n",
              "    <tr>\n",
              "      <th>Elemento 2</th>\n",
              "      <td>0.916801</td>\n",
              "      <td>0.376616</td>\n",
              "      <td>0.120646</td>\n",
              "    </tr>\n",
              "  </tbody>\n",
              "</table>\n",
              "</div>"
            ],
            "text/plain": [
              "                   A         B         C\n",
              "0           0.829581  0.891177  0.880162\n",
              "1           0.399066  0.158844  0.007566\n",
              "2           0.157604  0.632530  0.069168\n",
              "Elemento 1  0.335417  0.112746  0.109142\n",
              "Elemento 2  0.916801  0.376616  0.120646"
            ]
          },
          "metadata": {},
          "execution_count": 32
        }
      ]
    },
    {
      "cell_type": "code",
      "metadata": {
        "colab": {
          "base_uri": "https://localhost:8080/",
          "height": 205
        },
        "id": "iTBCR7IGuCE0",
        "outputId": "cc42a407-080e-4df9-f07f-a5004416e73f"
      },
      "source": [
        "# Outer o inner\n",
        "df = pd.concat([df1, df3], join = 'outer')\n",
        "df"
      ],
      "execution_count": 33,
      "outputs": [
        {
          "output_type": "execute_result",
          "data": {
            "text/html": [
              "<div>\n",
              "<style scoped>\n",
              "    .dataframe tbody tr th:only-of-type {\n",
              "        vertical-align: middle;\n",
              "    }\n",
              "\n",
              "    .dataframe tbody tr th {\n",
              "        vertical-align: top;\n",
              "    }\n",
              "\n",
              "    .dataframe thead th {\n",
              "        text-align: right;\n",
              "    }\n",
              "</style>\n",
              "<table border=\"1\" class=\"dataframe\">\n",
              "  <thead>\n",
              "    <tr style=\"text-align: right;\">\n",
              "      <th></th>\n",
              "      <th>A</th>\n",
              "      <th>B</th>\n",
              "      <th>C</th>\n",
              "      <th>D</th>\n",
              "    </tr>\n",
              "  </thead>\n",
              "  <tbody>\n",
              "    <tr>\n",
              "      <th>0</th>\n",
              "      <td>0.829581</td>\n",
              "      <td>0.891177</td>\n",
              "      <td>0.880162</td>\n",
              "      <td>NaN</td>\n",
              "    </tr>\n",
              "    <tr>\n",
              "      <th>1</th>\n",
              "      <td>0.399066</td>\n",
              "      <td>0.158844</td>\n",
              "      <td>0.007566</td>\n",
              "      <td>NaN</td>\n",
              "    </tr>\n",
              "    <tr>\n",
              "      <th>2</th>\n",
              "      <td>0.157604</td>\n",
              "      <td>0.632530</td>\n",
              "      <td>0.069168</td>\n",
              "      <td>NaN</td>\n",
              "    </tr>\n",
              "    <tr>\n",
              "      <th>0</th>\n",
              "      <td>0.606537</td>\n",
              "      <td>0.697093</td>\n",
              "      <td>NaN</td>\n",
              "      <td>0.813972</td>\n",
              "    </tr>\n",
              "    <tr>\n",
              "      <th>1</th>\n",
              "      <td>0.437390</td>\n",
              "      <td>0.651088</td>\n",
              "      <td>NaN</td>\n",
              "      <td>0.005562</td>\n",
              "    </tr>\n",
              "  </tbody>\n",
              "</table>\n",
              "</div>"
            ],
            "text/plain": [
              "          A         B         C         D\n",
              "0  0.829581  0.891177  0.880162       NaN\n",
              "1  0.399066  0.158844  0.007566       NaN\n",
              "2  0.157604  0.632530  0.069168       NaN\n",
              "0  0.606537  0.697093       NaN  0.813972\n",
              "1  0.437390  0.651088       NaN  0.005562"
            ]
          },
          "metadata": {},
          "execution_count": 33
        }
      ]
    },
    {
      "cell_type": "markdown",
      "metadata": {
        "id": "NbRrO25Tx7MF"
      },
      "source": [
        "Ejercicio: \n",
        "- A partir del dataframe que creaste con la nueva población, crea uno nuevo pero con la densidad poblacional correcta."
      ]
    },
    {
      "cell_type": "markdown",
      "metadata": {
        "id": "LNrJfQTXyJsD"
      },
      "source": [
        "## Bonus: Gráficas en pandas.\n",
        "\n",
        "Podemos gráficar fácilmente los datos en un DataFrame:\n",
        "\n",
        "```python\n",
        "# Gráfica de linea\n",
        "df.plot(x = 'Columna1', y = 'Columna2')\n",
        "\n",
        "# Gráfica de puntos\n",
        "df.plot.scatter(x = 'Columna1', y = 'Columna2')\n",
        "```\n",
        "\n"
      ]
    },
    {
      "cell_type": "code",
      "metadata": {
        "colab": {
          "base_uri": "https://localhost:8080/",
          "height": 296
        },
        "id": "TkjKQeXdyi5g",
        "outputId": "4fddd755-e762-4930-9a49-520c25badb76"
      },
      "source": [
        "df_poblacion.plot(x = 'Rank', y = 'Density(pop/km2)')"
      ],
      "execution_count": 34,
      "outputs": [
        {
          "output_type": "execute_result",
          "data": {
            "text/plain": [
              "<matplotlib.axes._subplots.AxesSubplot at 0x7f01893e5e90>"
            ]
          },
          "metadata": {},
          "execution_count": 34
        },
        {
          "output_type": "display_data",
          "data": {
            "image/png": "[encoded data removed]",
            "text/plain": [
              "<Figure size 432x288 with 1 Axes>"
            ]
          },
          "metadata": {
            "needs_background": "light"
          }
        }
      ]
    },
    {
      "cell_type": "code",
      "metadata": {
        "colab": {
          "base_uri": "https://localhost:8080/",
          "height": 296
        },
        "id": "jQQNMEFHyiwz",
        "outputId": "184e83c0-f325-457d-a6d6-216afbf98980"
      },
      "source": [
        "df_casas.plot.scatter(x = 'population', y = 'total_rooms', alpha = 0.5)"
      ],
      "execution_count": 35,
      "outputs": [
        {
          "output_type": "execute_result",
          "data": {
            "text/plain": [
              "<matplotlib.axes._subplots.AxesSubplot at 0x7f0188275d90>"
            ]
          },
          "metadata": {},
          "execution_count": 35
        },
        {
          "output_type": "display_data",
          "data": {
            "image/png": "[encoded data removed]",
            "text/plain": [
              "<Figure size 432x288 with 1 Axes>"
            ]
          },
          "metadata": {
            "needs_background": "light"
          }
        }
      ]
    },
    {
      "cell_type": "markdown",
      "metadata": {
        "id": "7Sv-GME3nPON"
      },
      "source": [
        "-----\n",
        "> Contenido creado por **Missael Barco** ([CdeCMx](https://clubesdeciencia.mx/) / [Future Lab](https://futurelab.mx/), 2021) <br>\n",
        "> Contacto: [@GMissaelBarco](https://twitter.com/GMissaelBarco), missaelgabo@gmail.com\n"
      ]
    }
  ]
}